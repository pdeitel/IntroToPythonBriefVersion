{
 "cells": [
  {
   "cell_type": "markdown",
   "metadata": {},
   "source": [
    "&copy; 2020 by Pearson Education, Inc. All Rights Reserved. The content in this notebook is based on the book [**Python for Programmers**](https://amzn.to/2VvdnxE)."
   ]
  },
  {
   "cell_type": "markdown",
   "metadata": {
    "slideshow": {
     "slide_type": "slide"
    }
   },
   "source": [
    "# Python Data Science Full Throttle: <br/>Introductory Artificial Intelligence (AI), <br/>Big Data and Cloud Case Studies\n",
    "<img alt=\"Python Fundamentals LiveLessons cover\" src=\"./images/course_image.jpg\" style=\"float:right;padding-left:20px\" width=\"400\"/>\n",
    "\n",
    "**Paul Deitel, CEO  \n",
    "Deitel & Associates, Inc.**  \n",
    "* **Questions? <paul@deitel.com>**\n",
    "* https://deitel.com\n",
    "* **Deitel on O'Reilly:** https://deitel.com/LearnWithDeitel\n",
    "* Facebook: https://facebook.com/DeitelFan\n",
    "* Twitter: https://twitter.com/deitel (@deitel)\n",
    "* LinkedIn: https://linkedin.com/company/deitel-&-associates\n",
    "* YouTube: https://youtube.com/DeitelTV\n"
   ]
  },
  {
   "cell_type": "markdown",
   "metadata": {},
   "source": [
    "<hr style=\"height:2px; border:none; color:#000; background-color:#000;\">"
   ]
  },
  {
   "cell_type": "markdown",
   "metadata": {
    "slideshow": {
     "slide_type": "slide"
    },
    "tags": []
   },
   "source": [
    "# My Upcoming O'Reilly Live Training Courses\n",
    "https://deitel.com/LearnWithDeitel\n",
    "\n",
    "* **October 4**&mdash;Python Full Throttle \n",
    "* **October 11**&mdash;Java Full Throttle   \n",
    "* **October 31**&mdash;Python Data Science Full Throttle \n",
    "* **November 8**&mdash;Python Full Throttle \n",
    "* **December 6**&mdash;Python Full Throttle \n",
    "* **December 8**&mdash;Python Data Science Full Throttle \n"
   ]
  },
  {
   "cell_type": "markdown",
   "metadata": {},
   "source": [
    "<hr style=\"height:2px; border:none; color:#000; background-color:#000;\">"
   ]
  },
  {
   "cell_type": "markdown",
   "metadata": {
    "slideshow": {
     "slide_type": "slide"
    },
    "tags": []
   },
   "source": [
    "## Under Development\n",
    "* **C++20 Full Throttle** (one or two courses) \n",
    "* **Updated Java books, LiveLessons videos and Full Throttles** based on **Java 17+** (LTS) and higher\n",
    "* **Updated Python books, LiveLessons videos and Full Throttles** based on **Python 3.10+**, latest library versions and more"
   ]
  },
  {
   "cell_type": "markdown",
   "metadata": {},
   "source": [
    "<hr style=\"height:2px; border:none; color:#000; background-color:#000;\">"
   ]
  },
  {
   "cell_type": "markdown",
   "metadata": {
    "slideshow": {
     "slide_type": "slide"
    }
   },
   "source": [
    "# Now Available on O'Reilly: **C++20 for Programmers** and **C++20 LiveLessons** Sneak Peek (Video Lessons 1–14 out of 20)\n",
    "https://deitel.com/LearnWithDeitel\n",
    "\n",
    "<a href=\"https://learning.oreilly.com/videos/c20-fundamentals/9780136875185\"><img alt=\"C++ Fundamentals LiveLessons cover\" src=\"./images/cpp20ll.jpg\" width=\"200px\" border=\"1\"/></a>&nbsp;&nbsp;&nbsp;<a href=\"https://learning.oreilly.com/library/view/c20-for-programmers/9780136905776/\"><img alt=\"C++20 for Programmers cover\" src=\"./images/c-plus-plus-20-for-programmers.jpg\"  width=\"184px\" border=\"1\"/></a>\n"
   ]
  },
  {
   "cell_type": "markdown",
   "metadata": {},
   "source": [
    "<hr style=\"height:2px; border:none; color:#000; background-color:#000;\">"
   ]
  },
  {
   "cell_type": "markdown",
   "metadata": {},
   "source": [
    "# C How to Program, 9/e: with Application Programming and Systems Programming Case Studies\n",
    "**E-mail paul@deitel.com** with questions.\n",
    "\n",
    "<a style=\"float: left; padding-right:30px\" href=\"https://deitel.com/c-how-to-program-9-e/\"><img alt=\"C How to Program, 9/e\" src=\"https://deitel.com/wp-content/uploads/2021/02/c-how-to-program-9-e.jpg\" width=\"200px\" border=\"1\"/></a>\n",
    "\n",
    "**A Few Key Features:**\n",
    "* Rich coverage of programming fundamentals\n",
    "* **20+ rich case studies from computer science, artificial intelligence, data science and other fields**\n",
    "* 350+ integrated self-check exercises with answers\n",
    "* Enhanced security/data science per ACM™/IEEE™ guidelines\n",
    "* Use free open-source libraries and tools\n",
    "* gnuplot visualization\n",
    "* raylib game programming\n",
    "* AI: Machine learning, natural language processing\n",
    "* Robotics and 3D graphics with the Webots simulator\n"
   ]
  },
  {
   "cell_type": "markdown",
   "metadata": {},
   "source": [
    "<hr style=\"height:2px; border:none; color:#000; background-color:#000;\">"
   ]
  },
  {
   "cell_type": "markdown",
   "metadata": {},
   "source": [
    "# Note Regarding Code Execution\n",
    "* I don't intend for you to run everything in parallel with my presentation.\n",
    "* **Today's goal:** Expose you to **many data science and AI topics** in Python\n",
    "* Some **require complex software setups** that I can't cover in the course due to time constraints\n",
    "* I've provided **links to detailed setup instructions** in both my **Python Fundamentals LiveLessons videos** and in **Python for Programmers**"
   ]
  },
  {
   "cell_type": "markdown",
   "metadata": {},
   "source": [
    "<hr style=\"height:2px; border:none; color:#000; background-color:#000;\">"
   ]
  },
  {
   "cell_type": "markdown",
   "metadata": {},
   "source": [
    "# Code and Jupyter Notebooks for Today's Presentation\n",
    "* Presenting in **Jupyter Notebooks** \n",
    "* [**Download the notebooks** from my GitHub repository](https://github.com/pdeitel/PythonDataScienceFullThrottle) \n",
    "* Root **`PythonDataScienceFullThrottle`** folder contains this **`StartHere.ipynb`** and **subfolders `ch11`-`ch16`** for the 6 sections of today's presentation\n",
    "    * Each folder corresponds to a lesson in my **Python Fundamentals LiveLessons videos** and a chapter in **Python for Programmers**\n"
   ]
  },
  {
   "cell_type": "markdown",
   "metadata": {},
   "source": [
    "<hr style=\"height:2px; border:none; color:#000; background-color:#000;\">"
   ]
  },
  {
   "cell_type": "markdown",
   "metadata": {},
   "source": [
    "# Viewing the Notebooks Online\n",
    "* Many examples require license keys or more complex software setups that prevent running in parallel with me\n",
    "* You can view final executed notebooks online in the GitHub repository or by using the Jupyter team's NBViewer service:\n",
    "> https://nbviewer.jupyter.org/github/pdeitel/PythonDataScienceFullThrottle/tree/master/"
   ]
  },
  {
   "cell_type": "markdown",
   "metadata": {},
   "source": [
    "<hr style=\"height:2px; border:none; color:#000; background-color:#000;\">"
   ]
  },
  {
   "cell_type": "markdown",
   "metadata": {
    "slideshow": {
     "slide_type": "slide"
    }
   },
   "source": [
    "# Multitiered Learning Approach\n",
    "* No need to take extensive notes.\n",
    "* A video of this presentation will be available 24 hours after the course."
   ]
  },
  {
   "cell_type": "markdown",
   "metadata": {},
   "source": [
    "<hr style=\"height:2px; border:none; color:#000; background-color:#000;\">"
   ]
  },
  {
   "cell_type": "markdown",
   "metadata": {
    "slideshow": {
     "slide_type": "slide"
    }
   },
   "source": [
    "### Detailed Treatments of This Material \n",
    "Here on O'Reilly\n",
    "* **[_Python Fundamentals_ video training](https://learning.oreilly.com/videos/python-fundamentals/9780135917411)** \n",
    "* **[_Python for Programmers_ e-book](https://learning.oreilly.com/library/view/python-for-programmers/9780135231364/)**\n",
    "* **[_Intro to Python for Computer Science and Data Science_ e-book](https://learning.oreilly.com/library/view/intro-to-python/9780135404799/)**"
   ]
  },
  {
   "cell_type": "markdown",
   "metadata": {},
   "source": [
    "<hr style=\"height:2px; border:none; color:#000; background-color:#000;\">"
   ]
  },
  {
   "cell_type": "markdown",
   "metadata": {
    "slideshow": {
     "slide_type": "slide"
    }
   },
   "source": [
    "# Deitel Python on O'Reilly:<br/>https://deitel.com/LearnWithDeitel\n",
    "<div style=\"float: left; padding-right:10px;text-align:center\"><a href=\"https://learning.oreilly.com/videos/python-fundamentals/9780135917411\"><img alt=\"Python Fundamentals LiveLessons cover\" src=\"./images/PythonFundamentalsLiveLessons.jpg\" width=\"200\" border=\"1\"/></a></br>50+ hours of in-depth videos</div>\n",
    "<div style=\"float: left; padding-right:10px;text-align:center\"><a href=\"https://learning.oreilly.com/library/view/intro-to-python/9780135404799/\"><img alt=\"Intro to Python for Computer Science and Data Science: Learning to Program with AI, Big Data and the Cloud\" src=\"./images/IntroToPythonCover.png\" width=\"195\" border=\"1\"></a><br/><a href=\"https://amzn.to/2LiDCmt\">Buy on Amazon</a></div></div>\n",
    "<div style=\"float: left; padding-right:10px;text-align:center\"><a href=\"https://learning.oreilly.com/library/view/python-for-programmers/9780135231364\"><img alt=\"Python for Programmers cover\" src=\"./images/PyFPCover.png\" width=\"184\" border=\"1\"/></a><br/><a href=\"https://amzn.to/2VvdnxE\">Buy on Amazon</a></div>"
   ]
  },
  {
   "cell_type": "markdown",
   "metadata": {},
   "source": [
    "Please do not buy both books. **Python for Programmers** is a subset of **Intro to Python**."
   ]
  },
  {
   "cell_type": "markdown",
   "metadata": {},
   "source": [
    "<hr style=\"height:2px; border:none; color:#000; background-color:#000;\">"
   ]
  },
  {
   "cell_type": "markdown",
   "metadata": {
    "slideshow": {
     "slide_type": "slide"
    }
   },
   "source": [
    "# [Our Python Textbook for College Courses](https://learning.oreilly.com/library/view/intro-to-python/9780135404799/)\n",
    "<a style=\"float: left; padding-right:25px\" href=\"https://amzn.to/2LiDCmt\"><img alt=\"Intro to Python for Computer Science and Data Science: Learning to Program with AI, Big Data and the Cloud\" src=\"./images/IntroToPythonCover.png\" width=\"150\" border=\"1\"></a>\n",
    "\n",
    "* **College Professors/Instructors**:  \n",
    "[Pre-Recorded Webinar Overview](https://www.pearson.com/us/about/news-events/events/2019/04/intro-to-python-for-computer-science-and-data-science.html).  \n",
    "* [**Request an examination copy**](https://www.pearson.com/replocator) from your Pearson rep\n",
    "* Full color\n",
    "* 880 pages&mdash;240 more than **Python for Programmers**\n",
    "* **Programming fundamentals**, including **program development**\n",
    "* **557 self-check exercises**\n",
    "* **471 end-of-chapter exercises and projects**—Good for term projects, directed studies, capstone projects and thesis research topics across many fields\n",
    "* **More Info:**\n",
    "https://deitel.com/intro-to-python-for-computer-science-and-data-science/\n"
   ]
  },
  {
   "cell_type": "markdown",
   "metadata": {},
   "source": [
    "<hr style=\"height:2px; border:none; color:#000; background-color:#000;\">"
   ]
  },
  {
   "cell_type": "markdown",
   "metadata": {
    "slideshow": {
     "slide_type": "slide"
    }
   },
   "source": [
    "# Rhythm of the Course \n",
    "* **Whirlwind tour** of\n",
    "    * Natural Language Processing\n",
    "    * Data Mining Twitter\n",
    "    * IBM Watson and Cognitive Computing\n",
    "    * Machine Learning (supervised and unsupervised)\n",
    "    * Deep learning\n",
    "    * Big Data with SQL, NoSQL, Hadoop, Spark and IoT\n",
    "* **Lecture only, source-code focused presentation**\n",
    "    * Six lecture segments and 5 breaks\n",
    "    * Two 7-minute breaks in first half\n",
    "    * 45-minute meal break after approximately 3 hours\n",
    "    * Two 7-minute breaks in last half"
   ]
  },
  {
   "cell_type": "markdown",
   "metadata": {},
   "source": [
    "<hr style=\"height:2px; border:none; color:#000; background-color:#000;\">"
   ]
  },
  {
   "cell_type": "markdown",
   "metadata": {
    "slideshow": {
     "slide_type": "slide"
    }
   },
   "source": [
    "# Need More Detail?\n",
    "* We **extensively indexed** [**Python for Programmers**](https://learning.oreilly.com/library/view/python-for-programmers/9780135231364/) here on O'Reilly\n",
    "    * Locating a topic in our book will help you locate its video presentation in my [**Python Fundamentals LiveLessons videos**](https://learning.oreilly.com/videos/python-fundamentals/9780135917411)\n",
    "* **Questions** after the course? **<paul@deitel.com>**"
   ]
  },
  {
   "cell_type": "markdown",
   "metadata": {},
   "source": [
    "<hr style=\"height:2px; border:none; color:#000; background-color:#000;\">"
   ]
  },
  {
   "cell_type": "markdown",
   "metadata": {
    "slideshow": {
     "slide_type": "slide"
    }
   },
   "source": [
    "# Python Data Science Full Throttle Table of Contents\n",
    "1. [Natural Language Processing](ch11/Ch11.ipynb) \n",
    "2. [Data Mining Twitter](ch12/Ch12.ipynb) \n",
    "3. [IBM Watson](ch13/Ch13.ipynb) \n",
    "4. [Machine Learning](ch14/Ch14.ipynb)\n",
    "5. [Deep Learning](ch15/Ch15.ipynb) \n",
    "6. [Big Data, Part 1](ch16/Ch16_Part1.ipynb)   \n",
    "[Big Data, Part 2](ch16/Ch16_Part2.ipynb)   \n",
    "[Big Data, Part 3](ch16/Ch16_Part3.ipynb)   \n",
    "7. Wrap-Up"
   ]
  },
  {
   "cell_type": "markdown",
   "metadata": {},
   "source": [
    "<hr style=\"height:2px; border:none; color:#000; background-color:#000;\">"
   ]
  },
  {
   "cell_type": "markdown",
   "metadata": {},
   "source": [
    "# &nbsp;\n",
    "# &nbsp;\n",
    "# **\"If I have seen further it is by standing on the shoulders of giants.\"** &mdash; Isaac Newton (and others before him)\n",
    "# &nbsp;\n",
    "# &nbsp;"
   ]
  },
  {
   "cell_type": "markdown",
   "metadata": {},
   "source": [
    "<hr style=\"height:2px; border:none; color:#000; background-color:#000;\">"
   ]
  },
  {
   "cell_type": "markdown",
   "metadata": {},
   "source": [
    "&copy; 2020 by Pearson Education, Inc. All Rights Reserved. The content in this notebook is based on the book [**Python for Programmers**](https://amzn.to/2VvdnxE)."
   ]
  }
 ],
 "metadata": {
  "kernelspec": {
   "display_name": "Python 3 (ipykernel)",
   "language": "python",
   "name": "python3"
  },
  "language_info": {
   "codemirror_mode": {
    "name": "ipython",
    "version": 3
   },
   "file_extension": ".py",
   "mimetype": "text/x-python",
   "name": "python",
   "nbconvert_exporter": "python",
   "pygments_lexer": "ipython3",
   "version": "3.10.6"
  },
  "nbTranslate": {
   "displayLangs": [
    "*"
   ],
   "hotkey": "alt-t",
   "langInMainMenu": true,
   "sourceLang": "en",
   "targetLang": "fr",
   "useGoogleTranslate": true
  }
 },
 "nbformat": 4,
 "nbformat_minor": 4
}
