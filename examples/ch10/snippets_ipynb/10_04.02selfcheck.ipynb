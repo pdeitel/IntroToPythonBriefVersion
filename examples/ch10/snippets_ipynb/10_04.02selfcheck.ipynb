{
 "cells": [
  {
   "cell_type": "markdown",
   "metadata": {},
   "source": [
    "![Self Check Exercises check mark image](files/art/check.png)\n",
    "# 10.4.2 Self Check"
   ]
  },
  {
   "cell_type": "markdown",
   "metadata": {},
   "source": [
    "\n",
    "**3. _(IPython Session)_** Add to class `Time` a read-write property `time` in which the getter returns a tuple containing the values of the `hour`, `minute` and `second` properties, and the _setter_ receives a tuple containing hour, minute and second values and uses them to set the time. Create a `Time` object and test the new property.\n",
    "\n",
    "**Answer:** The new read-write property definition is shown below:\n",
    "```python\n",
    "@property \n",
    "def time(self):\n",
    "    \"\"\"Return hour, minute and second as a tuple.\"\"\"\n",
    "    return (self.hour, self.minute, self.second)\n",
    "\n",
    "@time.setter\n",
    "def time(self, time_tuple):\n",
    "    \"\"\"Set time from a tuple containing hour, minute and second.\"\"\"\n",
    "    self.set_time(time_tuple[0], time_tuple[1], time_tuple[2])\n",
    "```"
   ]
  },
  {
   "cell_type": "code",
   "execution_count": null,
   "metadata": {},
   "outputs": [],
   "source": [
    "from timewithproperties import Time"
   ]
  },
  {
   "cell_type": "code",
   "execution_count": null,
   "metadata": {},
   "outputs": [],
   "source": [
    "t = Time()"
   ]
  },
  {
   "cell_type": "code",
   "execution_count": null,
   "metadata": {},
   "outputs": [],
   "source": [
    "t"
   ]
  },
  {
   "cell_type": "code",
   "execution_count": null,
   "metadata": {},
   "outputs": [],
   "source": [
    "t.time = (12, 30, 45)"
   ]
  },
  {
   "cell_type": "code",
   "execution_count": null,
   "metadata": {},
   "outputs": [],
   "source": [
    "t"
   ]
  },
  {
   "cell_type": "code",
   "execution_count": null,
   "metadata": {},
   "outputs": [],
   "source": [
    "t.time"
   ]
  },
  {
   "cell_type": "markdown",
   "metadata": {},
   "source": [
    "Note that the `self.set_time` call in the time property’s `setter` method may be expressed more concisely as\n",
    "```python\n",
    "self.set_time(*time_tuple)\n",
    "```\n",
    "The expression `*time_tuple` uses the unary `*` operator to _unpack_ the `time_tuple`’s values then passes them as individual arguments. In the preceding IPython session, the `setter` would receive the tuple `(12, 30, 45)`, then unpack the tuple and call `self.set_time` as follows:\n",
    "```python\n",
    "self.set_time(12, 30, 45)\n",
    "```"
   ]
  },
  {
   "cell_type": "code",
   "execution_count": null,
   "metadata": {},
   "outputs": [],
   "source": [
    "##########################################################################\n",
    "# (C) Copyright 2019 by Deitel & Associates, Inc. and                    #\n",
    "# Pearson Education, Inc. All Rights Reserved.                           #\n",
    "#                                                                        #\n",
    "# DISCLAIMER: The authors and publisher of this book have used their     #\n",
    "# best efforts in preparing the book. These efforts include the          #\n",
    "# development, research, and testing of the theories and programs        #\n",
    "# to determine their effectiveness. The authors and publisher make       #\n",
    "# no warranty of any kind, expressed or implied, with regard to these    #\n",
    "# programs or to the documentation contained in these books. The authors #\n",
    "# and publisher shall not be liable in any event for incidental or       #\n",
    "# consequential damages in connection with, or arising out of, the       #\n",
    "# furnishing, performance, or use of these programs.                     #\n",
    "##########################################################################\n"
   ]
  }
 ],
 "metadata": {
  "kernelspec": {
   "display_name": "Python 3",
   "language": "python",
   "name": "python3"
  },
  "language_info": {
   "codemirror_mode": {
    "name": "ipython",
    "version": 3
   },
   "file_extension": ".py",
   "mimetype": "text/x-python",
   "name": "python",
   "nbconvert_exporter": "python",
   "pygments_lexer": "ipython3",
   "version": "3.7.3"
  }
 },
 "nbformat": 4,
 "nbformat_minor": 2
}
