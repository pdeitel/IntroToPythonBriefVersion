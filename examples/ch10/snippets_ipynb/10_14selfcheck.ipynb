{
 "cells": [
  {
   "cell_type": "markdown",
   "metadata": {},
   "source": [
    "![Self Check Exercises check mark image](files/art/check.png)\n",
    "# 10.14 Self Check"
   ]
  },
  {
   "cell_type": "markdown",
   "metadata": {},
   "source": [
    "**1. _(Fill-In)_** When you execute a Python source file as a script, Python creates a global attribute `__name__` and assigns it the string `________`. \n",
    "\n",
    "**Answer:** '\\_\\_main\\_\\_'.\n",
    "\n",
    "**2. _(True/False)_** When you execute the `doctest` module’s `testmod` function, it inspects your code and automatically creates tests for you.\n",
    "\n",
    "**Answer:** False. When you execute the `doctest` module’s `testmod` function, it inspects your code’s function, method and class docstrings looking for sample Python statements preceded by `>>>`, each followed on the next line by the given statement’s expected output (if any). \n",
    "\n",
    "**3. _(IPython Session)_** Add tests to the `deposit` method’s docstring, then execute the tests. Your test should create an `Account` object, deposit a valid amount into it, then attempt to deposit an invalid negative amount, which raises a `ValueError`.\n",
    "\n",
    "**Answer:** The updated docstring for method deposit is shown below followed by the verbose `doctest` results:\n",
    "```python\n",
    "\"\"\"Deposit money to the account.\n",
    "\n",
    ">>> account1 = Account('John Green', Decimal('50.00'))\n",
    ">>> account1.deposit(Decimal('10.55'))\n",
    ">>> account1.balance\n",
    "Decimal('60.55')\n",
    "\n",
    ">>> account1.deposit(Decimal('-100.00'))\n",
    "Traceback (most recent call last):\n",
    "    ...\n",
    "ValueError: amount must be positive.\n",
    "\"\"\"\n",
    "```\n",
    "\n",
    "**For your convenience, this notebook includes the entire contents of accountdoctest2.py so you can modify it and rerun the tests. When you execute the cell containing accountdoctest2.py, the doctests will execute.**"
   ]
  },
  {
   "cell_type": "code",
   "execution_count": null,
   "metadata": {},
   "outputs": [],
   "source": [
    "# accountdoctest2.py\n",
    "\"\"\"Account class definition.\"\"\"\n",
    "from decimal import Decimal\n",
    "\n",
    "class Account:\n",
    "    \"\"\"Account class for demonstrating doctest.\"\"\"\n",
    "    \n",
    "    def __init__(self, name, balance):\n",
    "        \"\"\"Initialize an Account object.\n",
    "        \n",
    "        >>> account1 = Account('John Green', Decimal('50.00'))\n",
    "        >>> account1.name\n",
    "        'John Green'\n",
    "        >>> account1.balance\n",
    "        Decimal('50.00')\n",
    "\n",
    "        The balance argument must be greater than or equal to 0.\n",
    "        >>> account2 = Account('John Green', Decimal('-50.00'))\n",
    "        Traceback (most recent call last):\n",
    "            ...\n",
    "        ValueError: Initial balance must be >= to 0.00.\n",
    "        \"\"\"\n",
    "\n",
    "        # if balance is less than 0.00, raise an exception\n",
    "        if balance < Decimal('0.00'):\n",
    "            raise ValueError('Initial balance must be >= to 0.00.')\n",
    "\n",
    "        self.name = name\n",
    "        self.balance = balance\n",
    "\n",
    "    def deposit(self, amount):\n",
    "        \"\"\"Deposit money to the account.\n",
    "        \n",
    "        >>> account1 = Account('John Green', Decimal('50.00'))\n",
    "        >>> account1.deposit(Decimal('10.55'))\n",
    "        >>> account1.balance\n",
    "        Decimal('60.55')\n",
    "        \n",
    "        >>> account1.deposit(Decimal('-100.00'))\n",
    "        Traceback (most recent call last):\n",
    "            ...\n",
    "        ValueError: amount must be positive.\n",
    "        \"\"\"\n",
    "\n",
    "        # if amount is less than 0.00, raise an exception\n",
    "        if amount < Decimal('0.00'):\n",
    "            raise ValueError('amount must be positive.')\n",
    "\n",
    "        self.balance += amount\n",
    "\n",
    "if __name__ == '__main__':\n",
    "    import doctest\n",
    "    doctest.testmod(verbose=True)"
   ]
  },
  {
   "cell_type": "code",
   "execution_count": null,
   "metadata": {},
   "outputs": [],
   "source": [
    "##########################################################################\n",
    "# (C) Copyright 2019 by Deitel & Associates, Inc. and                    #\n",
    "# Pearson Education, Inc. All Rights Reserved.                           #\n",
    "#                                                                        #\n",
    "# DISCLAIMER: The authors and publisher of this book have used their     #\n",
    "# best efforts in preparing the book. These efforts include the          #\n",
    "# development, research, and testing of the theories and programs        #\n",
    "# to determine their effectiveness. The authors and publisher make       #\n",
    "# no warranty of any kind, expressed or implied, with regard to these    #\n",
    "# programs or to the documentation contained in these books. The authors #\n",
    "# and publisher shall not be liable in any event for incidental or       #\n",
    "# consequential damages in connection with, or arising out of, the       #\n",
    "# furnishing, performance, or use of these programs.                     #\n",
    "##########################################################################\n"
   ]
  }
 ],
 "metadata": {
  "kernelspec": {
   "display_name": "Python 3",
   "language": "python",
   "name": "python3"
  },
  "language_info": {
   "codemirror_mode": {
    "name": "ipython",
    "version": 3
   },
   "file_extension": ".py",
   "mimetype": "text/x-python",
   "name": "python",
   "nbconvert_exporter": "python",
   "pygments_lexer": "ipython3",
   "version": "3.7.0"
  }
 },
 "nbformat": 4,
 "nbformat_minor": 2
}
