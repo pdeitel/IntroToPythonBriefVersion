{
 "cells": [
  {
   "cell_type": "markdown",
   "metadata": {},
   "source": [
    "![Self Check Exercises check mark image](files/art/check.png)\n",
    "# 10.2.3 Self Check"
   ]
  },
  {
   "cell_type": "markdown",
   "metadata": {},
   "source": [
    "**3. _(IPython Session)_** Add a `withdraw` method to class Account. If the withdrawal `amount` is greater than the `balance`, raise a `ValueError`, indicating that the withdrawal `amount` must be less than or equal to the `balance`. If the withdrawal `amount` is less than `0.00`, raise a `ValueError` indicating that the withdrawal `amount` must be positive. If the withdrawal `amount` is valid, subtract it from the `balance` attribute. Create an `Account` object then test method `withdraw` first with a valid withdrawal `amount`, then with a withdrawal `amount` greater than the `balance` and finally with a negative withdrawal `amount`. \n",
    "\n",
    "**Answer:** The new method in class Account is:\n",
    "```python\n",
    "def withdraw(self, amount):\n",
    "    \"\"\"Withdraw money from the account.\"\"\"\n",
    "\n",
    "    # if amount is greater than balance, raise an exception\n",
    "    if amount > self.balance:\n",
    "        raise ValueError('amount must be <= to balance.')\n",
    "    elif amount < Decimal('0.00'):\n",
    "        raise ValueError('amount must be positive.')\n",
    "\n",
    "    self.balance -= amount\n",
    "```\n",
    "Testing method withdraw:"
   ]
  },
  {
   "cell_type": "code",
   "execution_count": null,
   "metadata": {},
   "outputs": [],
   "source": [
    "from account import Account"
   ]
  },
  {
   "cell_type": "code",
   "execution_count": null,
   "metadata": {},
   "outputs": [],
   "source": [
    "from decimal import Decimal"
   ]
  },
  {
   "cell_type": "code",
   "execution_count": null,
   "metadata": {},
   "outputs": [],
   "source": [
    "account1 = Account('John Green', Decimal('50.00'))"
   ]
  },
  {
   "cell_type": "code",
   "execution_count": null,
   "metadata": {},
   "outputs": [],
   "source": [
    "account1.withdraw(Decimal('20.00'))"
   ]
  },
  {
   "cell_type": "code",
   "execution_count": null,
   "metadata": {},
   "outputs": [],
   "source": [
    "account1.balance"
   ]
  },
  {
   "cell_type": "code",
   "execution_count": null,
   "metadata": {},
   "outputs": [],
   "source": [
    "account1.withdraw(Decimal('100.00'))"
   ]
  },
  {
   "cell_type": "code",
   "execution_count": null,
   "metadata": {},
   "outputs": [],
   "source": [
    "account1.withdraw(Decimal('-10.00'))"
   ]
  },
  {
   "cell_type": "code",
   "execution_count": null,
   "metadata": {},
   "outputs": [],
   "source": [
    "##########################################################################\n",
    "# (C) Copyright 2019 by Deitel & Associates, Inc. and                    #\n",
    "# Pearson Education, Inc. All Rights Reserved.                           #\n",
    "#                                                                        #\n",
    "# DISCLAIMER: The authors and publisher of this book have used their     #\n",
    "# best efforts in preparing the book. These efforts include the          #\n",
    "# development, research, and testing of the theories and programs        #\n",
    "# to determine their effectiveness. The authors and publisher make       #\n",
    "# no warranty of any kind, expressed or implied, with regard to these    #\n",
    "# programs or to the documentation contained in these books. The authors #\n",
    "# and publisher shall not be liable in any event for incidental or       #\n",
    "# consequential damages in connection with, or arising out of, the       #\n",
    "# furnishing, performance, or use of these programs.                     #\n",
    "##########################################################################\n"
   ]
  }
 ],
 "metadata": {
  "kernelspec": {
   "display_name": "Python 3",
   "language": "python",
   "name": "python3"
  },
  "language_info": {
   "codemirror_mode": {
    "name": "ipython",
    "version": 3
   },
   "file_extension": ".py",
   "mimetype": "text/x-python",
   "name": "python",
   "nbconvert_exporter": "python",
   "pygments_lexer": "ipython3",
   "version": "3.7.3"
  }
 },
 "nbformat": 4,
 "nbformat_minor": 2
}
