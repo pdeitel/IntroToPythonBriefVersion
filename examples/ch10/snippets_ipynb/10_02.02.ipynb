{
 "cells": [
  {
   "cell_type": "markdown",
   "metadata": {},
   "source": [
    "## 10.2.2 `Account` Class Definition\n",
    "### Defining a Class \n",
    "```python\n",
    "# account.py\n",
    "\"\"\"Account class definition.\"\"\"\n",
    "from decimal import Decimal\n",
    "\n",
    "class Account:\n",
    "    \"\"\"Account class for maintaining a bank account balance.\"\"\"\n",
    "    \n",
    "\n",
    "```\n",
    "\n",
    "### Initializing Account Objects: Method `__init__` \n",
    "```python\n",
    "    def __init__(self, name, balance):\n",
    "        \"\"\"Initialize an Account object.\"\"\"\n",
    "\n",
    "        # if balance is less than 0.00, raise an exception\n",
    "        if balance < Decimal('0.00'):\n",
    "            raise ValueError('Initial balance must be >= to 0.00.')\n",
    "\n",
    "        self.name = name\n",
    "        self.balance = balance\n",
    "\n",
    "\n",
    "```\n",
    "### Method deposit \n",
    "```python\n",
    "    def deposit(self, amount):\n",
    "        \"\"\"Deposit money to the account.\"\"\"\n",
    "\n",
    "        # if amount is less than 0.00, raise an exception\n",
    "        if amount < Decimal('0.00'):\n",
    "            raise ValueError('amount must be positive.')\n",
    "\n",
    "        self.balance += amount\n",
    "\n",
    "```"
   ]
  },
  {
   "cell_type": "code",
   "execution_count": null,
   "metadata": {},
   "outputs": [],
   "source": [
    "##########################################################################\n",
    "# (C) Copyright 2019 by Deitel & Associates, Inc. and                    #\n",
    "# Pearson Education, Inc. All Rights Reserved.                           #\n",
    "#                                                                        #\n",
    "# DISCLAIMER: The authors and publisher of this book have used their     #\n",
    "# best efforts in preparing the book. These efforts include the          #\n",
    "# development, research, and testing of the theories and programs        #\n",
    "# to determine their effectiveness. The authors and publisher make       #\n",
    "# no warranty of any kind, expressed or implied, with regard to these    #\n",
    "# programs or to the documentation contained in these books. The authors #\n",
    "# and publisher shall not be liable in any event for incidental or       #\n",
    "# consequential damages in connection with, or arising out of, the       #\n",
    "# furnishing, performance, or use of these programs.                     #\n",
    "##########################################################################\n"
   ]
  }
 ],
 "metadata": {
  "kernelspec": {
   "display_name": "Python 3",
   "language": "python",
   "name": "python3"
  },
  "language_info": {
   "codemirror_mode": {
    "name": "ipython",
    "version": 3
   },
   "file_extension": ".py",
   "mimetype": "text/x-python",
   "name": "python",
   "nbconvert_exporter": "python",
   "pygments_lexer": "ipython3",
   "version": "3.7.0"
  }
 },
 "nbformat": 4,
 "nbformat_minor": 2
}
