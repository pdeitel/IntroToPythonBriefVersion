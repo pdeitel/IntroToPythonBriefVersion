{
 "cells": [
  {
   "cell_type": "markdown",
   "metadata": {},
   "source": [
    "**6.4. _(Fill in the Missing Code)_** In each of the following expressions, replace the `***`s with a set operator that produces the result shown in the comment. The last operation should check whether the left operand is an improper subset of the right operand. For each of the first four expressions, specify the name of the set operation that produces the specified result.\n",
    "\n",
    "**a.** `{1, 2, 4, 8, 16} *** {1, 4, 16, 64, 256}  # {1,2,4,8,16,64,256} `\n",
    "\n",
    "**b.** `{1, 2, 4, 8, 16} *** {1, 4, 16, 64, 256}  # {1,4,16} `\n",
    "\n",
    "**c.** `{1, 2, 4, 8, 16} *** {1, 4, 16, 64, 256}  # {2,8} `\n",
    "\n",
    "**d.** `{1, 2, 4, 8, 16} *** {1, 4, 16, 64, 256}  # {2,8,64,256}  `\n",
    "\n",
    "**e.** `{1, 2, 4, 8, 16} *** {1, 4, 16, 64, 256}  # False`"
   ]
  },
  {
   "cell_type": "code",
   "execution_count": null,
   "metadata": {},
   "outputs": [],
   "source": [
    "{1, 2, 4, 8, 16} *** {1, 4, 16, 64, 256}  # {1,2,4,8,16,64,256} "
   ]
  },
  {
   "cell_type": "code",
   "execution_count": null,
   "metadata": {},
   "outputs": [],
   "source": [
    "{1, 2, 4, 8, 16} *** {1, 4, 16, 64, 256}  # {1,4,16} "
   ]
  },
  {
   "cell_type": "code",
   "execution_count": null,
   "metadata": {},
   "outputs": [],
   "source": [
    "{1, 2, 4, 8, 16} *** {1, 4, 16, 64, 256}  # {2,8} "
   ]
  },
  {
   "cell_type": "code",
   "execution_count": null,
   "metadata": {},
   "outputs": [],
   "source": [
    "{1, 2, 4, 8, 16} *** {1, 4, 16, 64, 256}  # {2,8,64,256}  "
   ]
  },
  {
   "cell_type": "code",
   "execution_count": null,
   "metadata": {},
   "outputs": [],
   "source": [
    "{1, 2, 4, 8, 16} *** {1, 4, 16, 64, 256}  # False"
   ]
  },
  {
   "cell_type": "code",
   "execution_count": null,
   "metadata": {},
   "outputs": [],
   "source": [
    "##########################################################################\n",
    "# (C) Copyright 2019 by Deitel & Associates, Inc. and                    #\n",
    "# Pearson Education, Inc. All Rights Reserved.                           #\n",
    "#                                                                        #\n",
    "# DISCLAIMER: The authors and publisher of this book have used their     #\n",
    "# best efforts in preparing the book. These efforts include the          #\n",
    "# development, research, and testing of the theories and programs        #\n",
    "# to determine their effectiveness. The authors and publisher make       #\n",
    "# no warranty of any kind, expressed or implied, with regard to these    #\n",
    "# programs or to the documentation contained in these books. The authors #\n",
    "# and publisher shall not be liable in any event for incidental or       #\n",
    "# consequential damages in connection with, or arising out of, the       #\n",
    "# furnishing, performance, or use of these programs.                     #\n",
    "##########################################################################\n"
   ]
  }
 ],
 "metadata": {
  "kernelspec": {
   "display_name": "Python 3",
   "language": "python",
   "name": "python3"
  },
  "language_info": {
   "codemirror_mode": {
    "name": "ipython",
    "version": 3
   },
   "file_extension": ".py",
   "mimetype": "text/x-python",
   "name": "python",
   "nbconvert_exporter": "python",
   "pygments_lexer": "ipython3",
   "version": "3.6.5"
  }
 },
 "nbformat": 4,
 "nbformat_minor": 2
}
