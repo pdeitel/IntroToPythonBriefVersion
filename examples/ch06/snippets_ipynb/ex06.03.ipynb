{
 "cells": [
  {
   "cell_type": "markdown",
   "metadata": {},
   "source": [
    "**6.3. _(What Does This Code Do?)_** The dictionary `temperatures` contains three Fahrenheit temperature samples for each of four days. What does the `for` statement do?\n",
    "```python\n",
    "temperatures = {            \n",
    "    'Monday': [66, 70, 74], \n",
    "    'Tuesday': [50, 56, 64],\n",
    "    'Wednesday': [75, 80, 83],\n",
    "    'Thursday': [67, 74, 81]\n",
    "}\n",
    "\n",
    "for k, v in temperatures.items():\n",
    "    print(f'{k}: {sum(v)/len(v):.2f}')\n",
    "```"
   ]
  },
  {
   "cell_type": "code",
   "execution_count": null,
   "metadata": {},
   "outputs": [],
   "source": [
    "temperatures = {            \n",
    "    'Monday': [66, 70, 74], \n",
    "    'Tuesday': [50, 56, 64],\n",
    "    'Wednesday': [75, 80, 83],\n",
    "    'Thursday': [67, 74, 81]\n",
    "}"
   ]
  },
  {
   "cell_type": "code",
   "execution_count": null,
   "metadata": {},
   "outputs": [],
   "source": [
    "for k, v in temperatures.items():\n",
    "    print(f'{k}: {sum(v)/len(v):.2f}')"
   ]
  },
  {
   "cell_type": "code",
   "execution_count": null,
   "metadata": {},
   "outputs": [],
   "source": [
    "##########################################################################\n",
    "# (C) Copyright 2019 by Deitel & Associates, Inc. and                    #\n",
    "# Pearson Education, Inc. All Rights Reserved.                           #\n",
    "#                                                                        #\n",
    "# DISCLAIMER: The authors and publisher of this book have used their     #\n",
    "# best efforts in preparing the book. These efforts include the          #\n",
    "# development, research, and testing of the theories and programs        #\n",
    "# to determine their effectiveness. The authors and publisher make       #\n",
    "# no warranty of any kind, expressed or implied, with regard to these    #\n",
    "# programs or to the documentation contained in these books. The authors #\n",
    "# and publisher shall not be liable in any event for incidental or       #\n",
    "# consequential damages in connection with, or arising out of, the       #\n",
    "# furnishing, performance, or use of these programs.                     #\n",
    "##########################################################################\n"
   ]
  }
 ],
 "metadata": {
  "kernelspec": {
   "display_name": "Python 3",
   "language": "python",
   "name": "python3"
  },
  "language_info": {
   "codemirror_mode": {
    "name": "ipython",
    "version": 3
   },
   "file_extension": ".py",
   "mimetype": "text/x-python",
   "name": "python",
   "nbconvert_exporter": "python",
   "pygments_lexer": "ipython3",
   "version": "3.6.5"
  }
 },
 "nbformat": 4,
 "nbformat_minor": 2
}
