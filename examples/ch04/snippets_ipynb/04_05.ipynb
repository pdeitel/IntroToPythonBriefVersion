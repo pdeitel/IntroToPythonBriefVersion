{
 "cells": [
  {
   "cell_type": "markdown",
   "metadata": {},
   "source": [
    "# 4.5 Case Study: A Game of Chance"
   ]
  },
  {
   "cell_type": "code",
   "execution_count": null,
   "metadata": {},
   "outputs": [],
   "source": [
    "# fig04_02.py\n",
    "\"\"\"Simulating the dice game Craps.\"\"\"\n",
    "import random\n",
    "\n",
    "def roll_dice():\n",
    "    \"\"\"Roll two dice and return their face values as a tuple.\"\"\"\n",
    "    die1 = random.randrange(1, 7)\n",
    "    die2 = random.randrange(1, 7)\n",
    "    return (die1, die2)  # pack die face values into a tuple\n",
    "\n",
    "def display_dice(dice):\n",
    "    \"\"\"Display one roll of the two dice.\"\"\"\n",
    "    die1, die2 = dice  # unpack the tuple into variables die1 and die2\n",
    "    print(f'Player rolled {die1} + {die2} = {sum(dice)}')\n",
    "\n",
    "die_values = roll_dice()  # first roll\n",
    "display_dice(die_values)\n",
    "\n",
    "# determine game status and point, based on first roll\n",
    "sum_of_dice = sum(die_values)\n",
    "\n",
    "if sum_of_dice in (7, 11):  # win\n",
    "    game_status = 'WON'\n",
    "elif sum_of_dice in (2, 3, 12):  # lose\n",
    "    game_status = 'LOST'\n",
    "else:  # remember point\n",
    "    game_status = 'CONTINUE'\n",
    "    my_point = sum_of_dice\n",
    "    print('Point is', my_point)\n",
    "\n",
    "# continue rolling until player wins or loses\n",
    "while game_status == 'CONTINUE':\n",
    "    die_values = roll_dice()\n",
    "    display_dice(die_values)\n",
    "    sum_of_dice = sum(die_values)\n",
    "\n",
    "    if sum_of_dice == my_point:  # win by making point\n",
    "        game_status = 'WON'\n",
    "    elif sum_of_dice == 7:  # lose by rolling 7\n",
    "        game_status = 'LOST'\n",
    "\n",
    "# display \"wins\" or \"loses\" message\n",
    "if game_status == 'WON':\n",
    "    print('Player wins')\n",
    "else:\n",
    "    print('Player loses')"
   ]
  },
  {
   "cell_type": "code",
   "execution_count": null,
   "metadata": {},
   "outputs": [],
   "source": [
    "##########################################################################\n",
    "# (C) Copyright 2019 by Deitel & Associates, Inc. and                    #\n",
    "# Pearson Education, Inc. All Rights Reserved.                           #\n",
    "#                                                                        #\n",
    "# DISCLAIMER: The authors and publisher of this book have used their     #\n",
    "# best efforts in preparing the book. These efforts include the          #\n",
    "# development, research, and testing of the theories and programs        #\n",
    "# to determine their effectiveness. The authors and publisher make       #\n",
    "# no warranty of any kind, expressed or implied, with regard to these    #\n",
    "# programs or to the documentation contained in these books. The authors #\n",
    "# and publisher shall not be liable in any event for incidental or       #\n",
    "# consequential damages in connection with, or arising out of, the       #\n",
    "# furnishing, performance, or use of these programs.                     #\n",
    "##########################################################################\n"
   ]
  }
 ],
 "metadata": {
  "kernelspec": {
   "display_name": "Python 3",
   "language": "python",
   "name": "python3"
  },
  "language_info": {
   "codemirror_mode": {
    "name": "ipython",
    "version": 3
   },
   "file_extension": ".py",
   "mimetype": "text/x-python",
   "name": "python",
   "nbconvert_exporter": "python",
   "pygments_lexer": "ipython3",
   "version": "3.6.6"
  }
 },
 "nbformat": 4,
 "nbformat_minor": 2
}
