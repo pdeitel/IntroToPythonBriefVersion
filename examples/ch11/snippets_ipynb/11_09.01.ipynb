{
 "cells": [
  {
   "cell_type": "markdown",
   "metadata": {},
   "source": [
    "# 11.9.1 Binary Search Implementation\n",
    "\n",
    "**Note: The last two lines of source code in this example have been modified from the print book so you can execute the example inside the notebook.**"
   ]
  },
  {
   "cell_type": "markdown",
   "metadata": {},
   "source": [
    "### Function `binary_search` "
   ]
  },
  {
   "cell_type": "code",
   "execution_count": null,
   "metadata": {},
   "outputs": [],
   "source": [
    "# binarysearch.py\n",
    "\"\"\"Use binary search to locate an item in an array.\"\"\"\n",
    "import numpy as np\n",
    "\n",
    "def binary_search(data, key):\n",
    "    \"\"\"Perform binary search of data looking for key.\"\"\"\n",
    "    low = 0   # low end of search area\n",
    "    high = len(data) - 1  # high end of search area\n",
    "    middle = (low + high + 1) // 2  # middle element index\n",
    "    location = -1  # return value -1 if not found\n",
    "    \n",
    "    # loop to search for element\n",
    "    while low <= high and location == -1:\n",
    "        # print remaining elements of array\n",
    "        print(remaining_elements(data, low, high))\n",
    "\n",
    "        print('   ' * middle, end='')  # output spaces for alignment \n",
    "        print(' * ')  # indicate current middle\n",
    "\n",
    "        # if the element is found at the middle                    \n",
    "        if key == data[middle]:                                   \n",
    "            location = middle  # location is the current middle     \n",
    "        elif key < data[middle]:  # middle element is too high\n",
    "            high = middle - 1  # eliminate the higher half          \n",
    "        else:  # middle element is too low                         \n",
    "            low = middle + 1  # eliminate the lower half            \n",
    "                                                                        \n",
    "        middle = (low + high + 1) // 2  # recalculate the middle\n",
    "\n",
    "    return location  # return location of search key\n",
    "                            "
   ]
  },
  {
   "cell_type": "markdown",
   "metadata": {},
   "source": [
    "### Function `remaining_elements` "
   ]
  },
  {
   "cell_type": "code",
   "execution_count": null,
   "metadata": {},
   "outputs": [],
   "source": [
    "def remaining_elements(data, low, high):\n",
    "    \"\"\"Display remaining elements of the binary search.\"\"\"\n",
    "    return '   ' * low + ' '.join(str(s) for s in data[low:high + 1])\n",
    "    "
   ]
  },
  {
   "cell_type": "markdown",
   "metadata": {},
   "source": [
    "### Function `main` \n",
    " "
   ]
  },
  {
   "cell_type": "code",
   "execution_count": null,
   "metadata": {},
   "outputs": [],
   "source": [
    "def main():\n",
    "    # create and display array of random values\n",
    "    data = np.random.randint(10, 91, 15)\n",
    "    data.sort()\n",
    "    print(data, '\\n')\n",
    "\n",
    "    search_key = int(input('Enter an integer value (-1 to quit): ')) \n",
    "\n",
    "    # repeatedly input an integer; -1 terminates the program\n",
    "    while search_key != -1:\n",
    "        location = binary_search(data, search_key)  # perform search\n",
    "\n",
    "        if location == -1:  # not found\n",
    "            print(f'{search_key} was not found\\n') \n",
    "        else:\n",
    "            print(f'{search_key} found in position {location}\\n')\n",
    "\n",
    "        search_key = int(input('Enter an integer value (-1 to quit): '))"
   ]
  },
  {
   "cell_type": "code",
   "execution_count": null,
   "metadata": {},
   "outputs": [],
   "source": [
    "# call main to execte the search \n",
    "main()"
   ]
  },
  {
   "cell_type": "code",
   "execution_count": null,
   "metadata": {},
   "outputs": [],
   "source": [
    "##########################################################################\n",
    "# (C) Copyright 2019 by Deitel & Associates, Inc. and                    #\n",
    "# Pearson Education, Inc. All Rights Reserved.                           #\n",
    "#                                                                        #\n",
    "# DISCLAIMER: The authors and publisher of this book have used their     #\n",
    "# best efforts in preparing the book. These efforts include the          #\n",
    "# development, research, and testing of the theories and programs        #\n",
    "# to determine their effectiveness. The authors and publisher make       #\n",
    "# no warranty of any kind, expressed or implied, with regard to these    #\n",
    "# programs or to the documentation contained in these books. The authors #\n",
    "# and publisher shall not be liable in any event for incidental or       #\n",
    "# consequential damages in connection with, or arising out of, the       #\n",
    "# furnishing, performance, or use of these programs.                     #\n",
    "##########################################################################\n"
   ]
  }
 ],
 "metadata": {
  "kernelspec": {
   "display_name": "Python 3",
   "language": "python",
   "name": "python3"
  },
  "language_info": {
   "codemirror_mode": {
    "name": "ipython",
    "version": 3
   },
   "file_extension": ".py",
   "mimetype": "text/x-python",
   "name": "python",
   "nbconvert_exporter": "python",
   "pygments_lexer": "ipython3",
   "version": "3.7.0"
  }
 },
 "nbformat": 4,
 "nbformat_minor": 2
}
