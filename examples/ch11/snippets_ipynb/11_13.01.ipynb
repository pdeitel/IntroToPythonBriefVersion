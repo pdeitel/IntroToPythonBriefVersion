{
 "cells": [
  {
   "cell_type": "markdown",
   "metadata": {},
   "source": [
    "## 11.13.1 Merge Sort Implementation"
   ]
  },
  {
   "cell_type": "markdown",
   "metadata": {},
   "source": [
    "### Function `merge_sort` "
   ]
  },
  {
   "cell_type": "code",
   "execution_count": null,
   "metadata": {},
   "outputs": [],
   "source": [
    "# mergesort.py\n",
    "\"\"\"Sorting an array with merge sort.\"\"\"\n",
    "import numpy as np \n",
    "\n",
    "# calls recursive sort_array method to begin merge sorting\n",
    "def merge_sort(data):\n",
    "    sort_array(data, 0, len(data) - 1)  "
   ]
  },
  {
   "cell_type": "markdown",
   "metadata": {},
   "source": [
    "### Recursive Function `sort_array` "
   ]
  },
  {
   "cell_type": "code",
   "execution_count": null,
   "metadata": {},
   "outputs": [],
   "source": [
    "def sort_array(data, low, high):\n",
    "    \"\"\"Split data, sort subarrays and merge them into sorted array.\"\"\"\n",
    "    # test base case size of array equals 1     \n",
    "    if (high - low) >= 1:  # if not base case\n",
    "        middle1 = (low + high) // 2  # calculate middle of array\n",
    "        middle2 = middle1 + 1  # calculate next element over     \n",
    "\n",
    "        # output split step\n",
    "        print(f'split:   {subarray_string(data, low, high)}') \n",
    "        print(f'         {subarray_string(data, low, middle1)}') \n",
    "        print(f'         {subarray_string(data, middle2, high)}\\n') \n",
    "\n",
    "        # split array in half then sort each half (recursive calls)\n",
    "        sort_array(data, low, middle1)  # first half of array       \n",
    "        sort_array(data, middle2, high)  # second half of array     \n",
    "\n",
    "        # merge two sorted arrays after split calls return\n",
    "        merge(data, low, middle1, middle2, high)              \n",
    "    "
   ]
  },
  {
   "cell_type": "markdown",
   "metadata": {},
   "source": [
    "### Function `merge` "
   ]
  },
  {
   "cell_type": "code",
   "execution_count": null,
   "metadata": {},
   "outputs": [],
   "source": [
    "# merge two sorted subarrays into one sorted subarray             \n",
    "def merge(data, left, middle1, middle2, right):\n",
    "    left_index = left  # index into left subarray              \n",
    "    right_index = middle2  # index into right subarray         \n",
    "    combined_index = left  # index into temporary working array\n",
    "    merged = [0] * len(data)  # working array        \n",
    "  \n",
    "    # output two subarrays before merging\n",
    "    print(f'merge:   {subarray_string(data, left, middle1)}') \n",
    "    print(f'         {subarray_string(data, middle2, right)}') \n",
    "\n",
    "    # merge arrays until reaching end of either         \n",
    "    while left_index <= middle1 and right_index <= right:\n",
    "        # place smaller of two current elements into result  \n",
    "        # and move to next space in arrays                   \n",
    "        if data[left_index] <= data[right_index]:       \n",
    "            merged[combined_index] = data[left_index]\n",
    "            combined_index += 1\n",
    "            left_index += 1\n",
    "        else:                                                 \n",
    "            merged[combined_index] = data[right_index] \n",
    "            combined_index += 1\n",
    "            right_index += 1\n",
    "\n",
    "    # if left array is empty                                \n",
    "    if left_index == middle2:  # if True, copy in rest of right array\n",
    "        merged[combined_index:right + 1] = data[right_index:right + 1]\n",
    "    else:  # right array is empty, copy in rest of left array\n",
    "        merged[combined_index:right + 1] = data[left_index:middle1 + 1]\n",
    "\n",
    "    data[left:right + 1] = merged[left:right + 1]  # copy back to data\n",
    "\n",
    "    # output merged array\n",
    "    print(f'         {subarray_string(data, left, right)}\\n') \n",
    "    "
   ]
  },
  {
   "cell_type": "markdown",
   "metadata": {},
   "source": [
    "### Function `subarray_string` "
   ]
  },
  {
   "cell_type": "code",
   "execution_count": null,
   "metadata": {},
   "outputs": [],
   "source": [
    "# method to output certain values in array\n",
    "def subarray_string(data, low, high):\n",
    "    temp = '   ' * low  # spaces for alignment\n",
    "    temp += ' '.join(str(item) for item in data[low:high + 1])\n",
    "    return temp\n",
    "    "
   ]
  },
  {
   "cell_type": "markdown",
   "metadata": {},
   "source": [
    "### Function `main`"
   ]
  },
  {
   "cell_type": "code",
   "execution_count": null,
   "metadata": {},
   "outputs": [],
   "source": [
    "def main():\n",
    "    data = np.array([34, 56, 14, 20, 77, 51, 93, 30, 15, 52])\n",
    "    print(f'Unsorted array: {data}\\n')\n",
    "    merge_sort(data) \n",
    "    print(f'\\nSorted array: {data}\\n')"
   ]
  },
  {
   "cell_type": "code",
   "execution_count": null,
   "metadata": {},
   "outputs": [],
   "source": [
    "# call main to execute the sort (we removed the if statement from the script in the book)\n",
    "main()"
   ]
  },
  {
   "cell_type": "code",
   "execution_count": null,
   "metadata": {},
   "outputs": [],
   "source": [
    "##########################################################################\n",
    "# (C) Copyright 2019 by Deitel & Associates, Inc. and                    #\n",
    "# Pearson Education, Inc. All Rights Reserved.                           #\n",
    "#                                                                        #\n",
    "# DISCLAIMER: The authors and publisher of this book have used their     #\n",
    "# best efforts in preparing the book. These efforts include the          #\n",
    "# development, research, and testing of the theories and programs        #\n",
    "# to determine their effectiveness. The authors and publisher make       #\n",
    "# no warranty of any kind, expressed or implied, with regard to these    #\n",
    "# programs or to the documentation contained in these books. The authors #\n",
    "# and publisher shall not be liable in any event for incidental or       #\n",
    "# consequential damages in connection with, or arising out of, the       #\n",
    "# furnishing, performance, or use of these programs.                     #\n",
    "##########################################################################\n"
   ]
  }
 ],
 "metadata": {
  "kernelspec": {
   "display_name": "Python 3",
   "language": "python",
   "name": "python3"
  },
  "language_info": {
   "codemirror_mode": {
    "name": "ipython",
    "version": 3
   },
   "file_extension": ".py",
   "mimetype": "text/x-python",
   "name": "python",
   "nbconvert_exporter": "python",
   "pygments_lexer": "ipython3",
   "version": "3.7.0"
  }
 },
 "nbformat": 4,
 "nbformat_minor": 2
}
