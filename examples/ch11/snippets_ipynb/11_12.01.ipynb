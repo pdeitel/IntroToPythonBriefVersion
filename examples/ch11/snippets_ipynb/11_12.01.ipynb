{
 "cells": [
  {
   "cell_type": "markdown",
   "metadata": {},
   "source": [
    "## 11.12.1 Insertion Sort Implementation\n",
    "\n",
    "**Note: The last two lines of source code in this example have been modified from the print book so you can execute the example inside the notebook.**\n"
   ]
  },
  {
   "cell_type": "markdown",
   "metadata": {},
   "source": [
    "### Function `insertion_sort`"
   ]
  },
  {
   "cell_type": "code",
   "execution_count": null,
   "metadata": {},
   "outputs": [],
   "source": [
    "# insertionsort.py\n",
    "\"\"\"Sorting an array with insertion sort.\"\"\"\n",
    "import numpy as np\n",
    "from ch11utilities import print_pass\n",
    "\n",
    "def insertion_sort(data):\n",
    "    \"\"\"Sort an array using insertion sort.\"\"\"\n",
    "    # loop over len(data) - 1 elements      \n",
    "    for next in range(1, len(data)):\n",
    "        insert = data[next]  # value to insert \n",
    "        move_item = next  # location to place element\n",
    "\n",
    "        # search for place to put current element         \n",
    "        while move_item > 0 and data[move_item - 1] > insert:  \n",
    "            # shift element right one slot\n",
    "            data[move_item] = data[move_item - 1]         \n",
    "            move_item -= 1                                      \n",
    "                                              \n",
    "        data[move_item] = insert  # place inserted element \n",
    "        print_pass(data, next, move_item)  # output pass of algorithm"
   ]
  },
  {
   "cell_type": "code",
   "execution_count": null,
   "metadata": {},
   "outputs": [],
   "source": [
    "def main(): \n",
    "    data = np.array([34, 56, 14, 20, 77, 51, 93, 30, 15, 52])\n",
    "    print(f'Unsorted array: {data}\\n')\n",
    "    insertion_sort(data) \n",
    "    print(f'\\nSorted array: {data}\\n')"
   ]
  },
  {
   "cell_type": "code",
   "execution_count": null,
   "metadata": {},
   "outputs": [],
   "source": [
    "# call mainto execute the sort\n",
    "main()"
   ]
  },
  {
   "cell_type": "code",
   "execution_count": null,
   "metadata": {},
   "outputs": [],
   "source": [
    "##########################################################################\n",
    "# (C) Copyright 2019 by Deitel & Associates, Inc. and                    #\n",
    "# Pearson Education, Inc. All Rights Reserved.                           #\n",
    "#                                                                        #\n",
    "# DISCLAIMER: The authors and publisher of this book have used their     #\n",
    "# best efforts in preparing the book. These efforts include the          #\n",
    "# development, research, and testing of the theories and programs        #\n",
    "# to determine their effectiveness. The authors and publisher make       #\n",
    "# no warranty of any kind, expressed or implied, with regard to these    #\n",
    "# programs or to the documentation contained in these books. The authors #\n",
    "# and publisher shall not be liable in any event for incidental or       #\n",
    "# consequential damages in connection with, or arising out of, the       #\n",
    "# furnishing, performance, or use of these programs.                     #\n",
    "##########################################################################\n"
   ]
  }
 ],
 "metadata": {
  "kernelspec": {
   "display_name": "Python 3",
   "language": "python",
   "name": "python3"
  },
  "language_info": {
   "codemirror_mode": {
    "name": "ipython",
    "version": 3
   },
   "file_extension": ".py",
   "mimetype": "text/x-python",
   "name": "python",
   "nbconvert_exporter": "python",
   "pygments_lexer": "ipython3",
   "version": "3.7.0"
  }
 },
 "nbformat": 4,
 "nbformat_minor": 2
}
