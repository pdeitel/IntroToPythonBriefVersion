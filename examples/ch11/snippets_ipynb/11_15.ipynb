{
 "cells": [
  {
   "cell_type": "markdown",
   "metadata": {},
   "source": [
    "# 11.15 Visualizing Algorithms\n",
    "\n",
    "Before running this notebook, be sure that you have previously executed the following commands, which we specified in the Before You Begin section of the book:\n",
    "\n",
    "```\n",
    "pip install ipympl\n",
    "conda install nodejs\n",
    "jupyter labextension install @jupyter-widgets/jupyterlab-manager\n",
    "jupyter labextension install jupyter-matplotlib\n",
    "```"
   ]
  },
  {
   "cell_type": "code",
   "execution_count": null,
   "metadata": {},
   "outputs": [],
   "source": [
    "%matplotlib widget"
   ]
  },
  {
   "cell_type": "code",
   "execution_count": null,
   "metadata": {},
   "outputs": [],
   "source": [
    "# selectionsortanimation.py\n",
    "\"\"\"Animated selection sort visualization.\"\"\"\n",
    "from matplotlib import animation\n",
    "import matplotlib.pyplot as plt\n",
    "import numpy as np\n",
    "import seaborn as sns\n",
    "import sys\n",
    "from ch11soundutilities import play_sound"
   ]
  },
  {
   "cell_type": "markdown",
   "metadata": {},
   "source": [
    "### `update` Function That Displays Each Animation Frame"
   ]
  },
  {
   "cell_type": "code",
   "execution_count": null,
   "metadata": {},
   "outputs": [],
   "source": [
    "def update(frame_data):\n",
    "    \"\"\"Display bars representing the current state.\"\"\"    \n",
    "    # unpack info for graph update\n",
    "    data, colors, swaps, comparisons = frame_data\n",
    "    plt.cla()  # clear old contents of current Figure\n",
    "\n",
    "    # create barplot and set its xlabel\n",
    "    bar_positions = np.arange(len(data))\n",
    "    axes = sns.barplot(bar_positions, data, palette=colors)  # new bars\n",
    "    axes.set(xlabel=f'Comparisons: {comparisons}; Swaps: {swaps}',\n",
    "             xticklabels=data)  "
   ]
  },
  {
   "cell_type": "markdown",
   "metadata": {},
   "source": [
    "### `flash_bars` Function That Flashes the Bars About to be Swapped"
   ]
  },
  {
   "cell_type": "code",
   "execution_count": null,
   "metadata": {},
   "outputs": [],
   "source": [
    "def flash_bars(index1, index2, data, colors, swaps, comparisons):\n",
    "    \"\"\"Flash the bars about to be swapped and play their notes.\"\"\"\n",
    "    for x in range(0, 2):\n",
    "        colors[index1], colors[index2] = 'white', 'white'\n",
    "        yield (data, colors, swaps, comparisons) \n",
    "        colors[index1], colors[index2] = 'purple', 'purple'\n",
    "        yield (data, colors, swaps, comparisons) \n",
    "        play_sound(data[index1], seconds=0.05)\n",
    "        play_sound(data[index2], seconds=0.05)"
   ]
  },
  {
   "cell_type": "markdown",
   "metadata": {},
   "source": [
    "### `selection_sort` as a Generator Function"
   ]
  },
  {
   "cell_type": "code",
   "execution_count": null,
   "metadata": {},
   "outputs": [],
   "source": [
    "def selection_sort(data):\n",
    "    \"\"\"Sort data using the selection sort algorithm and\n",
    "    yields values that update uses to visualize the algorithm.\"\"\"\n",
    "    swaps = 0  \n",
    "    comparisons = 0\n",
    "    colors = ['lightgray'] * len(data)  # list of bar colors\n",
    "    \n",
    "    # display initial bars representing shuffled values\n",
    "    yield (data, colors, swaps, comparisons)    \n",
    "    \n",
    "    # loop over len(data) - 1 elements    \n",
    "    for index1 in range(0, len(data) - 1):\n",
    "        print('outerloop')\n",
    "        smallest = index1\n",
    "        \n",
    "        # loop to find index of smallest element's index   \n",
    "        for index2 in range(index1 + 1, len(data)):\n",
    "            print('innerloop')\n",
    "            comparisons += 1\n",
    "            colors[smallest] = 'purple'\n",
    "            colors[index2] = 'red'            \n",
    "            yield (data, colors, swaps, comparisons) \n",
    "            play_sound(data[index2], seconds=0.05)\n",
    "\n",
    "            # compare elements at positions index and smallest\n",
    "            if data[index2] < data[smallest]:\n",
    "                colors[smallest] = 'lightgray'\n",
    "                smallest = index2\n",
    "                colors[smallest] = 'purple'\n",
    "                yield (data, colors, swaps, comparisons) \n",
    "            else: \n",
    "                colors[index2] = 'lightgray'\n",
    "                yield (data, colors, swaps, comparisons) \n",
    "            \n",
    "        # ensure that last bar is not purple\n",
    "        colors[-1] = 'lightgray'\n",
    "        \n",
    "        # flash the bars about to be swapped\n",
    "        yield from flash_bars(index1, smallest, data, colors, \n",
    "                              swaps, comparisons)\n",
    "\n",
    "        # swap the elements at positions index1 and smallest\n",
    "        swaps += 1\n",
    "        data[smallest], data[index1] = data[index1], data[smallest]  \n",
    "        \n",
    "        # flash the bars that were just swapped\n",
    "        yield from flash_bars(index1, smallest, data, colors, \n",
    "                              swaps, comparisons)\n",
    "        \n",
    "        # indicate that bar index1 is now in its final spot\n",
    "        colors[index1] = 'lightgreen'\n",
    "        yield (data, colors, swaps, comparisons)    \n",
    "\n",
    "    # indicate that last bar is now in its final spot\n",
    "    colors[-1] = 'lightgreen'\n",
    "    yield (data, colors, swaps, comparisons)    \n",
    "    play_sound(data[-1], seconds=0.05)\n",
    "\n",
    "    # play each bar's note once and color it darker green\n",
    "    for index in range(len(data)):\n",
    "        colors[index] = 'green'\n",
    "        yield (data, colors, swaps, comparisons)\n",
    "        play_sound(data[index], seconds=0.05)"
   ]
  },
  {
   "cell_type": "markdown",
   "metadata": {},
   "source": [
    "### `main` Function That Launches the Animation\n",
    "\n",
    "Note that we made some changes to execute this code in the notebook. The animation works best when run from the command line. "
   ]
  },
  {
   "cell_type": "code",
   "execution_count": null,
   "metadata": {},
   "outputs": [],
   "source": [
    "#def main():\n",
    "number_of_values = int(sys.argv[1]) if len(sys.argv) == 2 else 10 \n",
    "\n",
    "figure = plt.figure('Selection Sort')  # Figure to display barplot\n",
    "numbers = np.arange(1, number_of_values + 1)  # create array \n",
    "np.random.shuffle(numbers)  # shuffle the array\n",
    "\n",
    "# start the animation\n",
    "anim = animation.FuncAnimation(figure, update, repeat=False,\n",
    "    frames=selection_sort(numbers), interval=50)\n",
    "\n",
    "plt.show()  # display the Figure"
   ]
  },
  {
   "cell_type": "code",
   "execution_count": null,
   "metadata": {},
   "outputs": [],
   "source": [
    "# call main to execute the animation (we removed the if statement from the script in the book)\n",
    "#main()"
   ]
  },
  {
   "cell_type": "code",
   "execution_count": null,
   "metadata": {},
   "outputs": [],
   "source": [
    "##########################################################################\n",
    "# (C) Copyright 2019 by Deitel & Associates, Inc. and                    #\n",
    "# Pearson Education, Inc. All Rights Reserved.                           #\n",
    "#                                                                        #\n",
    "# DISCLAIMER: The authors and publisher of this book have used their     #\n",
    "# best efforts in preparing the book. These efforts include the          #\n",
    "# development, research, and testing of the theories and programs        #\n",
    "# to determine their effectiveness. The authors and publisher make       #\n",
    "# no warranty of any kind, expressed or implied, with regard to these    #\n",
    "# programs or to the documentation contained in these books. The authors #\n",
    "# and publisher shall not be liable in any event for incidental or       #\n",
    "# consequential damages in connection with, or arising out of, the       #\n",
    "# furnishing, performance, or use of these programs.                     #\n",
    "##########################################################################\n"
   ]
  }
 ],
 "metadata": {
  "kernelspec": {
   "display_name": "Python 3",
   "language": "python",
   "name": "python3"
  },
  "language_info": {
   "codemirror_mode": {
    "name": "ipython",
    "version": 3
   },
   "file_extension": ".py",
   "mimetype": "text/x-python",
   "name": "python",
   "nbconvert_exporter": "python",
   "pygments_lexer": "ipython3",
   "version": "3.7.0"
  }
 },
 "nbformat": 4,
 "nbformat_minor": 2
}
